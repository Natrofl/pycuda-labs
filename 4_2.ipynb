{
  "nbformat": 4,
  "nbformat_minor": 0,
  "metadata": {
    "accelerator": "GPU",
    "colab": {
      "name": "4.2.ipynb",
      "provenance": [],
      "collapsed_sections": []
    },
    "kernelspec": {
      "display_name": "Python 3",
      "name": "python3"
    },
    "language_info": {
      "name": "python"
    }
  },
  "cells": [
    {
      "cell_type": "code",
      "metadata": {
        "colab": {
          "base_uri": "https://localhost:8080/"
        },
        "id": "5JFKTHyH1ef6",
        "outputId": "cd579dc1-b31d-4094-975b-8d8552153f54"
      },
      "source": [
        "!pip install pycuda"
      ],
      "execution_count": 1,
      "outputs": [
        {
          "output_type": "stream",
          "name": "stdout",
          "text": [
            "Collecting pycuda\n",
            "  Downloading pycuda-2021.1.tar.gz (1.7 MB)\n",
            "\u001b[K     |████████████████████████████████| 1.7 MB 5.4 MB/s \n",
            "\u001b[?25h  Installing build dependencies ... \u001b[?25l\u001b[?25hdone\n",
            "  Getting requirements to build wheel ... \u001b[?25l\u001b[?25hdone\n",
            "    Preparing wheel metadata ... \u001b[?25l\u001b[?25hdone\n",
            "Collecting pytools>=2011.2\n",
            "  Downloading pytools-2021.2.8.tar.gz (63 kB)\n",
            "\u001b[K     |████████████████████████████████| 63 kB 1.8 MB/s \n",
            "\u001b[?25hRequirement already satisfied: appdirs>=1.4.0 in /usr/local/lib/python3.7/dist-packages (from pycuda) (1.4.4)\n",
            "Collecting mako\n",
            "  Downloading Mako-1.1.5-py2.py3-none-any.whl (75 kB)\n",
            "\u001b[K     |████████████████████████████████| 75 kB 3.6 MB/s \n",
            "\u001b[?25hRequirement already satisfied: numpy>=1.6.0 in /usr/local/lib/python3.7/dist-packages (from pytools>=2011.2->pycuda) (1.19.5)\n",
            "Requirement already satisfied: MarkupSafe>=0.9.2 in /usr/local/lib/python3.7/dist-packages (from mako->pycuda) (2.0.1)\n",
            "Building wheels for collected packages: pycuda, pytools\n",
            "  Building wheel for pycuda (PEP 517) ... \u001b[?25l\u001b[?25hdone\n",
            "  Created wheel for pycuda: filename=pycuda-2021.1-cp37-cp37m-linux_x86_64.whl size=627558 sha256=f9912f60edb4c96e6d2d81d43f58f51b32840e7ae021d68a03281d51f144c7a2\n",
            "  Stored in directory: /root/.cache/pip/wheels/c4/ef/49/dc6a5feb8d980b37c83d465ecab24949a6aa19458522a9e001\n",
            "  Building wheel for pytools (setup.py) ... \u001b[?25l\u001b[?25hdone\n",
            "  Created wheel for pytools: filename=pytools-2021.2.8-py2.py3-none-any.whl size=60725 sha256=8d91872674276042c625b4ec51f82a15f74c661aef2bf845130d77f8bb68bbae\n",
            "  Stored in directory: /root/.cache/pip/wheels/bd/2d/ef/0127a17bafa44971f11d05d0e38d7947144cf9e33313bf12a7\n",
            "Successfully built pycuda pytools\n",
            "Installing collected packages: pytools, mako, pycuda\n",
            "Successfully installed mako-1.1.5 pycuda-2021.1 pytools-2021.2.8\n"
          ]
        }
      ]
    },
    {
      "cell_type": "code",
      "metadata": {
        "id": "MWiFg13q1jAI",
        "colab": {
          "base_uri": "https://localhost:8080/"
        },
        "outputId": "72b8f6dc-c08e-4885-abf3-2cc2ca66a197"
      },
      "source": [
        "import pycuda.driver as cuda\n",
        "import pycuda.autoinit\n",
        "from pycuda.compiler import SourceModule\n",
        "import numpy as np\n",
        "\n",
        "(n, m, p) = (3, 4, 5)\n",
        "\n",
        "n = np.int32(n)\n",
        "m = np.int32(m)\n",
        "p = np.int32(p)\n",
        "\n",
        "a = np.random.randint(2, size=(n, m))\n",
        "b = np.random.randint(2, size=(m, p))\n",
        "c = np.zeros((n, p), dtype=np.float32)\n",
        "\n",
        "a = a.astype(np.float32)\n",
        "b = b.astype(np.float32)\n",
        "\n",
        "a_gpu = cuda.mem_alloc(a.size * a.dtype.itemsize)\n",
        "b_gpu = cuda.mem_alloc(b.size * b.dtype.itemsize)\n",
        "c_gpu = cuda.mem_alloc(c.size * c.dtype.itemsize)\n",
        "\n",
        "cuda.memcpy_htod(a_gpu, a)\n",
        "cuda.memcpy_htod(b_gpu, b)\n",
        "\n",
        "mod = SourceModule(\"\"\"\n",
        "    __global__ void multiply\n",
        "      ( int n, int m, int p,\n",
        "        float *a, float *b, float *c )\n",
        "    {\n",
        "        int idx = p*threadIdx.x + threadIdx.y;\n",
        "\n",
        "        c[idx] = 0.0;\n",
        "        for(int k=0; k<m; k++)\n",
        "           c[idx] += a[m*threadIdx.x+k]\n",
        "                    *b[threadIdx.y+k*p];\n",
        "    }\n",
        "    \"\"\")\n",
        "\n",
        "func = mod.get_function(\"multiply\")\n",
        "func(n, m, p, a_gpu, b_gpu, c_gpu, \\\n",
        "     block=(np.int(n), np.int(p), 1), \\\n",
        "     grid=(1, 1), shared=0)\n",
        "\n",
        "cuda.memcpy_dtoh(c, c_gpu)\n",
        "\n",
        "\n",
        "if np.array_equal(c, a.dot(b)):\n",
        "  print(\"Пройдено!\")\n",
        "  print(\"Ожидаемый результат:\\n\", c)\n",
        "  print(\"Полученный реузьтат:\\n\", a.dot(b))\n",
        "else:\n",
        "  print(\"Потрачено!\")\n",
        "\n"
      ],
      "execution_count": 26,
      "outputs": [
        {
          "output_type": "stream",
          "name": "stdout",
          "text": [
            "Пройдено!\n",
            "Ожидаемый результат:\n",
            " [[1. 0. 0. 0. 0.]\n",
            " [1. 0. 1. 1. 0.]\n",
            " [1. 0. 1. 1. 0.]]\n",
            "Полученный реузьтат:\n",
            " [[1. 0. 0. 0. 0.]\n",
            " [1. 0. 1. 1. 0.]\n",
            " [1. 0. 1. 1. 0.]]\n"
          ]
        }
      ]
    }
  ]
}