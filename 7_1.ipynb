{
  "nbformat": 4,
  "nbformat_minor": 0,
  "metadata": {
    "accelerator": "GPU",
    "colab": {
      "name": "7_1.ipynb",
      "provenance": [],
      "collapsed_sections": []
    },
    "kernelspec": {
      "display_name": "Python 3",
      "name": "python3"
    },
    "language_info": {
      "name": "python"
    }
  },
  "cells": [
    {
      "cell_type": "code",
      "metadata": {
        "colab": {
          "base_uri": "https://localhost:8080/"
        },
        "id": "5JFKTHyH1ef6",
        "outputId": "f201bd10-e710-4bbf-90d2-4734d4d27379"
      },
      "source": [
        "!pip install pycuda\n",
        "!pip install nltk\n",
        "!wget http://delaram.lmu.build/courses/cmsi-185/Final/abcnews-date-text.csv\n"
      ],
      "execution_count": 6,
      "outputs": [
        {
          "output_type": "stream",
          "name": "stdout",
          "text": [
            "Requirement already satisfied: pycuda in /usr/local/lib/python3.7/dist-packages (2021.1)\n",
            "Requirement already satisfied: mako in /usr/local/lib/python3.7/dist-packages (from pycuda) (1.1.5)\n",
            "Requirement already satisfied: pytools>=2011.2 in /usr/local/lib/python3.7/dist-packages (from pycuda) (2021.2.8)\n",
            "Requirement already satisfied: appdirs>=1.4.0 in /usr/local/lib/python3.7/dist-packages (from pycuda) (1.4.4)\n",
            "Requirement already satisfied: numpy>=1.6.0 in /usr/local/lib/python3.7/dist-packages (from pytools>=2011.2->pycuda) (1.19.5)\n",
            "Requirement already satisfied: MarkupSafe>=0.9.2 in /usr/local/lib/python3.7/dist-packages (from mako->pycuda) (2.0.1)\n",
            "Requirement already satisfied: nltk in /usr/local/lib/python3.7/dist-packages (3.2.5)\n",
            "Requirement already satisfied: six in /usr/local/lib/python3.7/dist-packages (from nltk) (1.15.0)\n",
            "/bin/bash: import: command not found\n",
            "/bin/bash: -c: line 0: syntax error near unexpected token `'punkt''\n",
            "/bin/bash: -c: line 0: `nltk.download('punkt')'\n"
          ]
        }
      ]
    },
    {
      "cell_type": "code",
      "metadata": {
        "colab": {
          "base_uri": "https://localhost:8080/",
          "height": 385
        },
        "id": "_fffTlL4Vv1P",
        "outputId": "3b8fdd54-0a96-4b52-f979-937324af5a74"
      },
      "source": [
        "import pandas as pd\n",
        "news= pd.read_csv('abcnews-date-text.csv',nrows=1000)\n",
        "\n",
        "import nltk\n",
        "from nltk.tokenize import word_tokenize\n",
        "import seaborn as sns\n",
        "from collections import Counter\n",
        "\n",
        "#@cuda.jit(nopython=True)\n",
        "def plot_most_common_part_of_speach_barchart(text, part_of_speach='NN'):\n",
        "    nltk.download('punkt')\n",
        "    nltk.download('averaged_perceptron_tagger')\n",
        "    \n",
        "    def _filter_pos(text):\n",
        "        pos_type=[]\n",
        "        pos=nltk.pos_tag(word_tokenize(text))\n",
        "        for word,tag in pos:\n",
        "            if tag==part_of_speach:\n",
        "                pos_type.append(word)\n",
        "        return pos_type\n",
        "\n",
        "\n",
        "    words=text.apply(lambda x : _filter_pos(x))\n",
        "    words=[x for l in words for x in l]\n",
        "    counter=Counter(words)\n",
        "    x,y=list(map(list,zip(*counter.most_common(7))))\n",
        "    sns.barplot(x=y,y=x).set_title(part_of_speach)\n",
        "\n",
        "blockdim = (16, 16)\n",
        "\n",
        "griddim = (1,1,1)\n",
        "#plot_most_common_part_of_speach_barchart[griddim, blockdim](news['headline_text'])\n",
        "plot_most_common_part_of_speach_barchart(news['headline_text'])"
      ],
      "execution_count": 3,
      "outputs": [
        {
          "output_type": "stream",
          "name": "stdout",
          "text": [
            "[nltk_data] Downloading package punkt to /root/nltk_data...\n",
            "[nltk_data]   Package punkt is already up-to-date!\n",
            "[nltk_data] Downloading package averaged_perceptron_tagger to\n",
            "[nltk_data]     /root/nltk_data...\n",
            "[nltk_data]   Package averaged_perceptron_tagger is already up-to-\n",
            "[nltk_data]       date!\n"
          ]
        },
        {
          "output_type": "display_data",
          "data": {
            "image/png": "[encoded data removed]",
            "text/plain": [
              "<Figure size 432x288 with 1 Axes>"
            ]
          },
          "metadata": {
            "needs_background": "light"
          }
        }
      ]
    }
  ]
}