{
  "nbformat": 4,
  "nbformat_minor": 0,
  "metadata": {
    "colab": {
      "name": "3.4.ipynb",
      "provenance": [],
      "collapsed_sections": []
    },
    "kernelspec": {
      "name": "python3",
      "display_name": "Python 3"
    },
    "language_info": {
      "name": "python"
    },
    "accelerator": "GPU"
  },
  "cells": [
    {
      "cell_type": "code",
      "metadata": {
        "colab": {
          "base_uri": "https://localhost:8080/"
        },
        "id": "F4lKjiBiJziZ",
        "outputId": "861bf0f2-6ebf-49a3-adeb-5e3e59077f95"
      },
      "source": [
        "!pip install pycuda"
      ],
      "execution_count": 4,
      "outputs": [
        {
          "output_type": "stream",
          "name": "stdout",
          "text": [
            "Collecting pycuda\n",
            "  Downloading pycuda-2021.1.tar.gz (1.7 MB)\n",
            "\u001b[K     |████████████████████████████████| 1.7 MB 5.4 MB/s \n",
            "\u001b[?25h  Installing build dependencies ... \u001b[?25l\u001b[?25hdone\n",
            "  Getting requirements to build wheel ... \u001b[?25l\u001b[?25hdone\n",
            "    Preparing wheel metadata ... \u001b[?25l\u001b[?25hdone\n",
            "Requirement already satisfied: appdirs>=1.4.0 in /usr/local/lib/python3.7/dist-packages (from pycuda) (1.4.4)\n",
            "Collecting mako\n",
            "  Downloading Mako-1.1.5-py2.py3-none-any.whl (75 kB)\n",
            "\u001b[K     |████████████████████████████████| 75 kB 4.0 MB/s \n",
            "\u001b[?25hCollecting pytools>=2011.2\n",
            "  Downloading pytools-2021.2.8.tar.gz (63 kB)\n",
            "\u001b[K     |████████████████████████████████| 63 kB 2.1 MB/s \n",
            "\u001b[?25hRequirement already satisfied: numpy>=1.6.0 in /usr/local/lib/python3.7/dist-packages (from pytools>=2011.2->pycuda) (1.19.5)\n",
            "Requirement already satisfied: MarkupSafe>=0.9.2 in /usr/local/lib/python3.7/dist-packages (from mako->pycuda) (2.0.1)\n",
            "Building wheels for collected packages: pycuda, pytools\n",
            "  Building wheel for pycuda (PEP 517) ... \u001b[?25l\u001b[?25hdone\n",
            "  Created wheel for pycuda: filename=pycuda-2021.1-cp37-cp37m-linux_x86_64.whl size=627558 sha256=04fa53b1d94d18276b119688df9ec5c90fd1d4ff28cddeadb0e0b0a53803e568\n",
            "  Stored in directory: /root/.cache/pip/wheels/c4/ef/49/dc6a5feb8d980b37c83d465ecab24949a6aa19458522a9e001\n",
            "  Building wheel for pytools (setup.py) ... \u001b[?25l\u001b[?25hdone\n",
            "  Created wheel for pytools: filename=pytools-2021.2.8-py2.py3-none-any.whl size=60725 sha256=471146e1a75a291524032717ebefc8ad6dfc094c8dd88c1389163741b66b369a\n",
            "  Stored in directory: /root/.cache/pip/wheels/bd/2d/ef/0127a17bafa44971f11d05d0e38d7947144cf9e33313bf12a7\n",
            "Successfully built pycuda pytools\n",
            "Installing collected packages: pytools, mako, pycuda\n",
            "Successfully installed mako-1.1.5 pycuda-2021.1 pytools-2021.2.8\n"
          ]
        }
      ]
    },
    {
      "cell_type": "code",
      "metadata": {
        "colab": {
          "base_uri": "https://localhost:8080/"
        },
        "id": "50WRHwXxS98E",
        "outputId": "b4fb0e5d-8fef-41e0-c87c-d5bbb1d76ff0"
      },
      "source": [
        "import pycuda.driver as cuda\n",
        "import pycuda.autoinit\n",
        "from pycuda.compiler import SourceModule\n",
        "import numpy as np\n",
        "\n",
        "\n",
        "def iDivUp(a, b):\n",
        "    return a // b + 1\n",
        "\n",
        "\n",
        "start = cuda.Event()\n",
        "end   = cuda.Event()\n",
        "\n",
        "count = 100\n",
        "\n",
        "BLOCKSIZE = 256\n",
        "\n",
        "\n",
        "a = np.random.randn(1, count)\n",
        "b = np.random.randn(1, count)\n",
        "\n",
        "\n",
        "a = a.astype(np.float32)\n",
        "b = b.astype(np.float32)\n",
        "c = np.empty_like(a)\n",
        "\n",
        "mod = SourceModule(\"\"\"\n",
        "__global__ void vectorAdd(float * __restrict__ d_c, const float * __restrict__ d_a, \n",
        "                                                    const float * __restrict__ d_b,\n",
        "                                                    const int N)\n",
        "{\n",
        "  const int tid = threadIdx.x + blockIdx.x * blockDim.x;\n",
        "  if (tid >= N) return;\n",
        "  d_c[tid] = d_a[tid] + d_b[tid];\n",
        "}\n",
        "\"\"\")\n",
        "\n",
        "vectorAdd = mod.get_function(\"vectorAdd\")\n",
        "blockDim  = (BLOCKSIZE, 1, 1)\n",
        "gridDim   = (iDivUp(N, BLOCKSIZE), 1, 1)\n",
        "start.record()\n",
        "vectorAdd(cuda.Out(c), cuda.In(a), cuda.In(b), np.int32(N), block = blockDim, grid = gridDim)\n",
        "end.record() \n",
        "end.synchronize()\n",
        "secs = start.time_till(end) * 1e-3\n",
        "print(\"Processing time = %fs\" % (secs))\n",
        "\n",
        "if np.array_equal(c, a + b):\n",
        "  print(\"Пройдено!\")\n",
        "  print(\"Ожидаемый результат: \", str(c))\n",
        "  print(\"Полученный реузьтат: \", str(a + b))\n",
        "else :\n",
        "  print(\"Потрачено!\")\n",
        "\n",
        "cuda.Context.synchronize()"
      ],
      "execution_count": 29,
      "outputs": [
        {
          "output_type": "stream",
          "name": "stdout",
          "text": [
            "Processing time = 0.000321s\n",
            "Пройдено!\n",
            "Ожидаемый результат:  [[ 1.640908   -0.4235562   0.4149223   1.0976689   1.2136481  -2.0167303\n",
            "  -0.01769257  1.2943896  -1.8662503  -0.8984314  -1.4006885   2.885817\n",
            "   0.2002386  -1.0647409  -2.8455367   3.077952   -1.6369033  -0.20380542\n",
            "   0.20725742  0.2013802   1.7580473   0.9404578  -2.1393392  -1.3064051\n",
            "   2.6392066   0.27668273  0.3479379   2.585082    0.6241794  -0.596244\n",
            "   0.7655045   1.620623   -3.750266    1.7375662  -0.62586963  0.47455567\n",
            "   0.4064255   0.18493378  0.15715837 -1.0630178  -0.984003    0.33918372\n",
            "  -1.7522651  -0.67725754 -1.7896042  -0.8586312  -0.10624605  0.94693154\n",
            "  -0.284414    2.3688328   1.328336    1.5043439   1.2305505   2.5134468\n",
            "   2.4283137   1.2092813  -0.73825336  2.535647    0.11161119  0.87147975\n",
            "   2.4980168  -0.9616691   0.29873002 -0.17109784  1.2031877  -0.58028924\n",
            "   1.2928725  -0.71906716 -0.36815047  2.6832426   0.90943944 -0.6747913\n",
            "  -0.5514878   0.42715865 -0.74280506 -0.65223545 -1.5380421   2.1378376\n",
            "  -0.8481354  -1.0561684   0.7386938  -0.09526622 -0.5081455   2.6719785\n",
            "   3.0947762   0.02645567  0.5574028  -0.42080504 -1.2282722  -0.69793147\n",
            "   1.1136911  -2.438335    1.9127245   1.0455406  -0.2769822   0.80329216\n",
            "  -0.03283393 -0.37434733  1.9453607  -0.7020099 ]]\n",
            "Полученный реузьтат:  [[ 1.640908   -0.4235562   0.4149223   1.0976689   1.2136481  -2.0167303\n",
            "  -0.01769257  1.2943896  -1.8662503  -0.8984314  -1.4006885   2.885817\n",
            "   0.2002386  -1.0647409  -2.8455367   3.077952   -1.6369033  -0.20380542\n",
            "   0.20725742  0.2013802   1.7580473   0.9404578  -2.1393392  -1.3064051\n",
            "   2.6392066   0.27668273  0.3479379   2.585082    0.6241794  -0.596244\n",
            "   0.7655045   1.620623   -3.750266    1.7375662  -0.62586963  0.47455567\n",
            "   0.4064255   0.18493378  0.15715837 -1.0630178  -0.984003    0.33918372\n",
            "  -1.7522651  -0.67725754 -1.7896042  -0.8586312  -0.10624605  0.94693154\n",
            "  -0.284414    2.3688328   1.328336    1.5043439   1.2305505   2.5134468\n",
            "   2.4283137   1.2092813  -0.73825336  2.535647    0.11161119  0.87147975\n",
            "   2.4980168  -0.9616691   0.29873002 -0.17109784  1.2031877  -0.58028924\n",
            "   1.2928725  -0.71906716 -0.36815047  2.6832426   0.90943944 -0.6747913\n",
            "  -0.5514878   0.42715865 -0.74280506 -0.65223545 -1.5380421   2.1378376\n",
            "  -0.8481354  -1.0561684   0.7386938  -0.09526622 -0.5081455   2.6719785\n",
            "   3.0947762   0.02645567  0.5574028  -0.42080504 -1.2282722  -0.69793147\n",
            "   1.1136911  -2.438335    1.9127245   1.0455406  -0.2769822   0.80329216\n",
            "  -0.03283393 -0.37434733  1.9453607  -0.7020099 ]]\n"
          ]
        }
      ]
    }
  ]
}