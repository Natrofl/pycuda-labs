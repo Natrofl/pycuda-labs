{
  "nbformat": 4,
  "nbformat_minor": 0,
  "metadata": {
    "accelerator": "GPU",
    "colab": {
      "name": "8_1.ipynb",
      "provenance": [],
      "collapsed_sections": []
    },
    "kernelspec": {
      "display_name": "Python 3",
      "name": "python3"
    },
    "language_info": {
      "name": "python"
    }
  },
  "cells": [
    {
      "cell_type": "code",
      "metadata": {
        "colab": {
          "base_uri": "https://localhost:8080/"
        },
        "id": "5JFKTHyH1ef6",
        "outputId": "1af1ceb9-2950-44b2-b882-259bd6c01c46"
      },
      "source": [
        "!pip install pycuda"
      ],
      "execution_count": 1,
      "outputs": [
        {
          "output_type": "stream",
          "name": "stdout",
          "text": [
            "Collecting pycuda\n",
            "  Downloading pycuda-2021.1.tar.gz (1.7 MB)\n",
            "\u001b[K     |████████████████████████████████| 1.7 MB 5.3 MB/s \n",
            "\u001b[?25h  Installing build dependencies ... \u001b[?25l\u001b[?25hdone\n",
            "  Getting requirements to build wheel ... \u001b[?25l\u001b[?25hdone\n",
            "    Preparing wheel metadata ... \u001b[?25l\u001b[?25hdone\n",
            "Requirement already satisfied: appdirs>=1.4.0 in /usr/local/lib/python3.7/dist-packages (from pycuda) (1.4.4)\n",
            "Collecting pytools>=2011.2\n",
            "  Downloading pytools-2021.2.8.tar.gz (63 kB)\n",
            "\u001b[K     |████████████████████████████████| 63 kB 2.0 MB/s \n",
            "\u001b[?25hCollecting mako\n",
            "  Downloading Mako-1.1.5-py2.py3-none-any.whl (75 kB)\n",
            "\u001b[K     |████████████████████████████████| 75 kB 4.0 MB/s \n",
            "\u001b[?25hRequirement already satisfied: numpy>=1.6.0 in /usr/local/lib/python3.7/dist-packages (from pytools>=2011.2->pycuda) (1.19.5)\n",
            "Requirement already satisfied: MarkupSafe>=0.9.2 in /usr/local/lib/python3.7/dist-packages (from mako->pycuda) (2.0.1)\n",
            "Building wheels for collected packages: pycuda, pytools\n",
            "  Building wheel for pycuda (PEP 517) ... \u001b[?25l\u001b[?25hdone\n",
            "  Created wheel for pycuda: filename=pycuda-2021.1-cp37-cp37m-linux_x86_64.whl size=627558 sha256=35d5c0de8a96af27241b75d46d0ced65e7a77eae2b777f78f51985c434afa1ce\n",
            "  Stored in directory: /root/.cache/pip/wheels/c4/ef/49/dc6a5feb8d980b37c83d465ecab24949a6aa19458522a9e001\n",
            "  Building wheel for pytools (setup.py) ... \u001b[?25l\u001b[?25hdone\n",
            "  Created wheel for pytools: filename=pytools-2021.2.8-py2.py3-none-any.whl size=60725 sha256=90b63259d990b70828adeb0c03a2fae027a79df9bbd4100b78d9c69e3babdcf5\n",
            "  Stored in directory: /root/.cache/pip/wheels/bd/2d/ef/0127a17bafa44971f11d05d0e38d7947144cf9e33313bf12a7\n",
            "Successfully built pycuda pytools\n",
            "Installing collected packages: pytools, mako, pycuda\n",
            "Successfully installed mako-1.1.5 pycuda-2021.1 pytools-2021.2.8\n"
          ]
        }
      ]
    },
    {
      "cell_type": "code",
      "metadata": {
        "colab": {
          "base_uri": "https://localhost:8080/"
        },
        "id": "VddgnFNwkMlK",
        "outputId": "8446522e-6ade-4b93-c2f9-e98db574d07f"
      },
      "source": [
        "from numba import stencil, cuda\n",
        "import numba.cuda\n",
        "import cupy, math\n",
        "\n",
        "@numba.cuda.jit\n",
        "def gpu(x, out):\n",
        "    i, j = cuda.grid(2)\n",
        "    n, m = x.shape\n",
        "    if 1 <= i < n - 1 and 1 <= j < m - 1:\n",
        "        out[i, j] = (x[i - 1, j - 1] + x[i - 1, j] + x[i - 1, j + 1] +\n",
        "                     x[i, j - 1] + x[i, j] + x[i, j + 1] +\n",
        "                     x[i + 1, j - 1] + x[i + 1, j] + x[i + 1, j + 1]) // 9\n",
        "\n",
        "\n",
        "\n",
        "\n",
        "x_gpu = cupy.ones((10000, 10000), dtype='int8')\n",
        "out_gpu = cupy.zeros((10000, 10000), dtype='int8')\n",
        "\n",
        "threadsperblock = (16, 16)\n",
        "blockspergrid_x = math.ceil(x_gpu.shape[0] / threadsperblock[0])\n",
        "blockspergrid_y = math.ceil(x_gpu.shape[1] / threadsperblock[1])\n",
        "blockspergrid = (blockspergrid_x, blockspergrid_y)\n",
        "\n",
        "gpu[blockspergrid, threadsperblock](x_gpu, out_gpu)\n",
        "\n",
        "\n"
      ],
      "execution_count": 4,
      "outputs": [
        {
          "output_type": "stream",
          "name": "stdout",
          "text": [
            "<numba.cuda.compiler.Dispatcher object at 0x7fc0f5fe07d0>\n"
          ]
        }
      ]
    }
  ]
}